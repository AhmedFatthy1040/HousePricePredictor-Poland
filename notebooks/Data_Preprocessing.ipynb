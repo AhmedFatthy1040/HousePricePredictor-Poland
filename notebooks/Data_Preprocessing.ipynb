{
 "cells": [
  {
   "cell_type": "markdown",
   "id": "eb80f165",
   "metadata": {},
   "source": [
    "# Description of the dataset:\n",
    "\n",
    "1. address - Full addres\n",
    "2. city - Warszawa (Warsaw), Kraków (Cracow), Poznań (Poznan).\n",
    "3. floor - The number of the floor where the apartment is located\n",
    "4. id - id\n",
    "5. latitude - latitude\n",
    "6. longitude - longitude\n",
    "7. price - Price of apartment in PLN [TARGET]\n",
    "8. rooms - Number of rooms in the apartment\n",
    "9. sq - Number of square meters of the apartment\n",
    "10. year - Year of the building / apartment"
   ]
  },
  {
   "cell_type": "markdown",
   "id": "02ce3477",
   "metadata": {},
   "source": [
    "# Importing the libraries"
   ]
  },
  {
   "cell_type": "code",
   "execution_count": 2,
   "id": "0353cda3",
   "metadata": {},
   "outputs": [],
   "source": [
    "import numpy as np\n",
    "import matplotlib.pyplot as plt\n",
    "import pandas as pd\n",
    "from sklearn.compose import ColumnTransformer\n",
    "from sklearn.preprocessing import OneHotEncoder, StandardScaler\n",
    "from sklearn.model_selection import train_test_split"
   ]
  },
  {
   "cell_type": "markdown",
   "id": "7d648164",
   "metadata": {},
   "source": [
    "# Loading the dataset"
   ]
  },
  {
   "cell_type": "code",
   "execution_count": 3,
   "id": "0f648d23",
   "metadata": {},
   "outputs": [],
   "source": [
    "# Load the dataset from the 'data' folder\n",
    "file_path = '../data/Houses.csv'\n",
    "\n",
    "try:\n",
    "    dataset = pd.read_csv(file_path, encoding='utf-8')\n",
    "except UnicodeDecodeError:\n",
    "    # If utf-8 fails, try 'latin1' encoding\n",
    "    dataset = pd.read_csv(file_path, encoding='latin1')"
   ]
  },
  {
   "cell_type": "code",
   "execution_count": 4,
   "id": "b1046b45",
   "metadata": {},
   "outputs": [
    {
     "name": "stdout",
     "output_type": "stream",
     "text": [
      "   Unnamed: 0                                            address      city  \\\n",
      "0           0           Podgórze Zab³ocie Stanis³awa Klimeckiego    Kraków   \n",
      "1           1                          Praga-Po³udnie Grochowska  Warszawa   \n",
      "2           2                            Krowodrza Czarnowiejska    Kraków   \n",
      "3           3                                           Grunwald    Poznañ   \n",
      "4           4  Ochota Gotowy budynek. Stan deweloperski. Osta...  Warszawa   \n",
      "\n",
      "   floor       id   latitude  longitude      price  rooms      sq    year  \n",
      "0    2.0  23918.0  50.049224  19.970379   749000.0    3.0   74.05  2021.0  \n",
      "1    3.0  17828.0  52.249775  21.106886   240548.0    1.0   24.38  2021.0  \n",
      "2    2.0  22784.0  50.066964  19.920025   427000.0    2.0   37.00  1970.0  \n",
      "3    2.0   4315.0  52.404212  16.882542  1290000.0    5.0  166.00  1935.0  \n",
      "4    1.0  11770.0  52.212225  20.972630   996000.0    5.0  105.00  2020.0  \n"
     ]
    }
   ],
   "source": [
    "print(dataset.head())"
   ]
  },
  {
   "cell_type": "code",
   "execution_count": 5,
   "id": "238bf872",
   "metadata": {},
   "outputs": [
    {
     "name": "stdout",
     "output_type": "stream",
     "text": [
      "(23764, 11)\n"
     ]
    }
   ],
   "source": [
    "print(dataset.shape)"
   ]
  },
  {
   "cell_type": "markdown",
   "id": "cfa7bb5c",
   "metadata": {},
   "source": [
    "# Dropping unnecessary columns"
   ]
  },
  {
   "cell_type": "code",
   "execution_count": 6,
   "id": "5545d96a",
   "metadata": {},
   "outputs": [],
   "source": [
    "# Drop unnecessary columns for now\n",
    "dataset = dataset.drop(['id', 'address', 'latitude', 'longitude'], axis=1)"
   ]
  },
  {
   "cell_type": "code",
   "execution_count": 7,
   "id": "0385d0d6",
   "metadata": {},
   "outputs": [
    {
     "name": "stdout",
     "output_type": "stream",
     "text": [
      "   Unnamed: 0      city  floor      price  rooms      sq    year\n",
      "0           0    Kraków    2.0   749000.0    3.0   74.05  2021.0\n",
      "1           1  Warszawa    3.0   240548.0    1.0   24.38  2021.0\n",
      "2           2    Kraków    2.0   427000.0    2.0   37.00  1970.0\n",
      "3           3    Poznañ    2.0  1290000.0    5.0  166.00  1935.0\n",
      "4           4  Warszawa    1.0   996000.0    5.0  105.00  2020.0\n"
     ]
    }
   ],
   "source": [
    "print(dataset.head())"
   ]
  },
  {
   "cell_type": "code",
   "execution_count": 8,
   "id": "d61a602a",
   "metadata": {},
   "outputs": [
    {
     "name": "stdout",
     "output_type": "stream",
     "text": [
      "(23764, 7)\n"
     ]
    }
   ],
   "source": [
    "print(dataset.shape)"
   ]
  },
  {
   "cell_type": "markdown",
   "id": "22976957",
   "metadata": {},
   "source": [
    "# Separate features (X) and target variable (y)"
   ]
  },
  {
   "cell_type": "code",
   "execution_count": 9,
   "id": "c7ddb790",
   "metadata": {},
   "outputs": [],
   "source": [
    "# Separate features (X) and target variable (y)\n",
    "X = dataset.drop('price', axis=1)\n",
    "y = dataset['price']"
   ]
  },
  {
   "cell_type": "code",
   "execution_count": 10,
   "id": "e894d9c4",
   "metadata": {},
   "outputs": [
    {
     "name": "stdout",
     "output_type": "stream",
     "text": [
      "       Unnamed: 0      city  floor  rooms      sq    year\n",
      "0               0    Kraków    2.0    3.0   74.05  2021.0\n",
      "1               1  Warszawa    3.0    1.0   24.38  2021.0\n",
      "2               2    Kraków    2.0    2.0   37.00  1970.0\n",
      "3               3    Poznañ    2.0    5.0  166.00  1935.0\n",
      "4               4  Warszawa    1.0    5.0  105.00  2020.0\n",
      "...           ...       ...    ...    ...     ...     ...\n",
      "23759       23759    Poznañ    0.0    4.0   77.00  2020.0\n",
      "23760       23760  Warszawa    4.0    3.0   71.00  2017.0\n",
      "23761       23761    Poznañ    0.0    3.0   50.67  2022.0\n",
      "23762       23762    Kraków    6.0    2.0   38.86  2021.0\n",
      "23763       23763  Warszawa    2.0    3.0   63.00  1978.0\n",
      "\n",
      "[23764 rows x 6 columns]\n"
     ]
    }
   ],
   "source": [
    "print(X)"
   ]
  },
  {
   "cell_type": "code",
   "execution_count": 11,
   "id": "893cd0f4",
   "metadata": {},
   "outputs": [
    {
     "name": "stdout",
     "output_type": "stream",
     "text": [
      "0         749000.0\n",
      "1         240548.0\n",
      "2         427000.0\n",
      "3        1290000.0\n",
      "4         996000.0\n",
      "           ...    \n",
      "23759     543000.0\n",
      "23760     910000.0\n",
      "23761     430695.0\n",
      "23762     359000.0\n",
      "23763     604800.0\n",
      "Name: price, Length: 23764, dtype: float64\n"
     ]
    }
   ],
   "source": [
    "print(y)"
   ]
  },
  {
   "cell_type": "markdown",
   "id": "0e94c2b5",
   "metadata": {},
   "source": [
    "# Handling missing data"
   ]
  },
  {
   "cell_type": "code",
   "execution_count": 12,
   "id": "7d5eba5e",
   "metadata": {},
   "outputs": [],
   "source": [
    "missing_data = dataset.isnull()\n",
    "missing_data_count_per_column = missing_data.sum()"
   ]
  },
  {
   "cell_type": "code",
   "execution_count": 13,
   "id": "18ddc5bd",
   "metadata": {},
   "outputs": [
    {
     "name": "stdout",
     "output_type": "stream",
     "text": [
      "Unnamed: 0    0\n",
      "city          0\n",
      "floor         0\n",
      "price         0\n",
      "rooms         0\n",
      "sq            0\n",
      "year          0\n",
      "dtype: int64\n"
     ]
    }
   ],
   "source": [
    "print(missing_data_count_per_column)"
   ]
  },
  {
   "cell_type": "markdown",
   "id": "f7a46209",
   "metadata": {},
   "source": [
    "The output indicates that there are no missing values in the columns of the dataset. Each column is reported to have 0 missing values, as indicated by the count of 0 for each column in the missing_data_count_per_column result."
   ]
  },
  {
   "cell_type": "markdown",
   "id": "7ce63fea",
   "metadata": {},
   "source": [
    "# Encoding categorical data"
   ]
  },
  {
   "cell_type": "code",
   "execution_count": 14,
   "id": "bff2a239",
   "metadata": {},
   "outputs": [],
   "source": [
    "ct = ColumnTransformer(transformers=[('encoder', OneHotEncoder(), [1])] , remainder='passthrough')\n",
    "X = ct.fit_transform(X)"
   ]
  },
  {
   "cell_type": "code",
   "execution_count": 15,
   "id": "f8a87044",
   "metadata": {},
   "outputs": [
    {
     "name": "stdout",
     "output_type": "stream",
     "text": [
      "[[1.000e+00 0.000e+00 0.000e+00 ... 3.000e+00 7.405e+01 2.021e+03]\n",
      " [0.000e+00 0.000e+00 1.000e+00 ... 1.000e+00 2.438e+01 2.021e+03]\n",
      " [1.000e+00 0.000e+00 0.000e+00 ... 2.000e+00 3.700e+01 1.970e+03]\n",
      " ...\n",
      " [0.000e+00 1.000e+00 0.000e+00 ... 3.000e+00 5.067e+01 2.022e+03]\n",
      " [1.000e+00 0.000e+00 0.000e+00 ... 2.000e+00 3.886e+01 2.021e+03]\n",
      " [0.000e+00 0.000e+00 1.000e+00 ... 3.000e+00 6.300e+01 1.978e+03]]\n"
     ]
    }
   ],
   "source": [
    "print(X)"
   ]
  },
  {
   "cell_type": "markdown",
   "id": "1244bbda",
   "metadata": {},
   "source": [
    "# Splitting the dataset into the train set and the test set"
   ]
  },
  {
   "cell_type": "code",
   "execution_count": 16,
   "id": "4091f3b0",
   "metadata": {},
   "outputs": [],
   "source": [
    "# train_test_split() takes numpy arrays only as arguments\n",
    "X = np.array(X)\n",
    "y = np.array(y)\n",
    "\n",
    "X_train, X_test, y_train, y_test = train_test_split(X, y, test_size=0.2, random_state=42)"
   ]
  },
  {
   "cell_type": "code",
   "execution_count": 17,
   "id": "51475938",
   "metadata": {},
   "outputs": [
    {
     "name": "stdout",
     "output_type": "stream",
     "text": [
      "[[1.0000e+00 0.0000e+00 0.0000e+00 ... 5.0000e+00 1.4000e+02 2.0210e+03]\n",
      " [0.0000e+00 0.0000e+00 1.0000e+00 ... 3.0000e+00 5.6000e+01 1.9700e+03]\n",
      " [0.0000e+00 0.0000e+00 1.0000e+00 ... 3.0000e+00 1.1280e+02 2.0010e+03]\n",
      " ...\n",
      " [1.0000e+00 0.0000e+00 0.0000e+00 ... 4.0000e+00 1.4000e+02 1.9000e+03]\n",
      " [1.0000e+00 0.0000e+00 0.0000e+00 ... 4.0000e+00 6.9190e+01 2.0210e+03]\n",
      " [0.0000e+00 1.0000e+00 0.0000e+00 ... 6.0000e+00 1.3647e+02 2.0200e+03]]\n"
     ]
    }
   ],
   "source": [
    "print(X_train)"
   ]
  },
  {
   "cell_type": "code",
   "execution_count": 18,
   "id": "42067828",
   "metadata": {},
   "outputs": [
    {
     "name": "stdout",
     "output_type": "stream",
     "text": [
      "[[1.000e+00 0.000e+00 0.000e+00 ... 2.000e+00 3.100e+01 2.009e+03]\n",
      " [0.000e+00 0.000e+00 1.000e+00 ... 4.000e+00 9.404e+01 2.000e+03]\n",
      " [1.000e+00 0.000e+00 0.000e+00 ... 3.000e+00 8.175e+01 2.020e+03]\n",
      " ...\n",
      " [0.000e+00 0.000e+00 1.000e+00 ... 1.000e+00 2.472e+01 1.970e+03]\n",
      " [1.000e+00 0.000e+00 0.000e+00 ... 2.000e+00 5.250e+01 2.013e+03]\n",
      " [0.000e+00 0.000e+00 1.000e+00 ... 3.000e+00 5.000e+01 2.021e+03]]\n"
     ]
    }
   ],
   "source": [
    "print(X_test)"
   ]
  },
  {
   "cell_type": "code",
   "execution_count": 19,
   "id": "7af92fb0",
   "metadata": {},
   "outputs": [
    {
     "name": "stdout",
     "output_type": "stream",
     "text": [
      "[1118600.  620000. 2932800. ... 1350000.  664224. 1100000.]\n"
     ]
    }
   ],
   "source": [
    "print(y_train)"
   ]
  },
  {
   "cell_type": "code",
   "execution_count": 20,
   "id": "eae7b2f6",
   "metadata": {},
   "outputs": [
    {
     "name": "stdout",
     "output_type": "stream",
     "text": [
      "[ 410000. 1175000. 1021875. ...  368000.  640000.  639000.]\n"
     ]
    }
   ],
   "source": [
    "print(y_test)"
   ]
  },
  {
   "cell_type": "markdown",
   "id": "877fb3cc",
   "metadata": {},
   "source": [
    "# Feature scaling (Standardization)"
   ]
  },
  {
   "cell_type": "code",
   "execution_count": 21,
   "id": "a3d8ff1e",
   "metadata": {},
   "outputs": [],
   "source": [
    "sc = StandardScaler()\n",
    "X_train_scaled = X_train\n",
    "X_test_scaled = X_test\n",
    "X_train_scaled[:, 3:] = sc.fit_transform(X_train[:, 3:])\n",
    "X_test_scaled[:, 3:] = sc.transform(X_test[:, 3:])"
   ]
  },
  {
   "cell_type": "code",
   "execution_count": 22,
   "id": "9313add4",
   "metadata": {},
   "outputs": [
    {
     "name": "stdout",
     "output_type": "stream",
     "text": [
      "[[ 1.00000000e+00  0.00000000e+00  0.00000000e+00 ...  2.37805150e+00\n",
      "   3.61158788e-03  4.14272885e-01]\n",
      " [ 0.00000000e+00  0.00000000e+00  1.00000000e+00 ...  3.76938846e-01\n",
      "  -7.88783202e-03 -6.11091291e-01]\n",
      " [ 0.00000000e+00  0.00000000e+00  1.00000000e+00 ...  3.76938846e-01\n",
      "  -1.12033804e-04  1.21692865e-02]\n",
      " ...\n",
      " [ 1.00000000e+00  0.00000000e+00  0.00000000e+00 ...  1.37749517e+00\n",
      "   3.61158788e-03 -2.01845389e+00]\n",
      " [ 1.00000000e+00  0.00000000e+00  0.00000000e+00 ...  1.37749517e+00\n",
      "  -6.08214930e-03  4.14272885e-01]\n",
      " [ 0.00000000e+00  1.00000000e+00  0.00000000e+00 ...  3.37860782e+00\n",
      "   3.12833845e-03  3.94167705e-01]]\n"
     ]
    }
   ],
   "source": [
    "print(X_train_scaled)"
   ]
  },
  {
   "cell_type": "code",
   "execution_count": 23,
   "id": "8301f766",
   "metadata": {},
   "outputs": [
    {
     "name": "stdout",
     "output_type": "stream",
     "text": [
      "[[ 1.          0.          0.         ... -0.62361748 -0.01131028\n",
      "   0.17301073]\n",
      " [ 0.          0.          1.         ...  1.37749517 -0.00268024\n",
      "  -0.00793589]\n",
      " [ 1.          0.          0.         ...  0.37693885 -0.00436271\n",
      "   0.39416771]\n",
      " ...\n",
      " [ 0.          0.          1.         ... -1.62417381 -0.01217\n",
      "  -0.61109129]\n",
      " [ 1.          0.          0.         ... -0.62361748 -0.00836697\n",
      "   0.25343145]\n",
      " [ 0.          0.          1.         ...  0.37693885 -0.00870922\n",
      "   0.41427289]]\n"
     ]
    }
   ],
   "source": [
    "print(X_test_scaled)"
   ]
  }
 ],
 "metadata": {
  "kernelspec": {
   "display_name": "Python 3 (ipykernel)",
   "language": "python",
   "name": "python3"
  },
  "language_info": {
   "codemirror_mode": {
    "name": "ipython",
    "version": 3
   },
   "file_extension": ".py",
   "mimetype": "text/x-python",
   "name": "python",
   "nbconvert_exporter": "python",
   "pygments_lexer": "ipython3",
   "version": "3.11.5"
  }
 },
 "nbformat": 4,
 "nbformat_minor": 5
}
