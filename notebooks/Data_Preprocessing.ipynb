{
 "cells": [
  {
   "cell_type": "markdown",
   "id": "2cc4632e",
   "metadata": {},
   "source": [
    "# Description of the dataset:\n",
    "\n",
    "1. address - Full addres\n",
    "2. city - Warszawa (Warsaw), Kraków (Cracow), Poznań (Poznan).\n",
    "3. floor - The number of the floor where the apartment is located\n",
    "4. id - id\n",
    "5. latitude - latitude\n",
    "6. longitude - longitude\n",
    "7. price - Price of apartment in PLN [TARGET]\n",
    "8. rooms - Number of rooms in the apartment\n",
    "9. sq - Number of square meters of the apartment\n",
    "10. year - Year of the building / apartment"
   ]
  },
  {
   "cell_type": "markdown",
   "id": "02ce3477",
   "metadata": {},
   "source": [
    "# Importing the libraries"
   ]
  },
  {
   "cell_type": "code",
   "execution_count": 2,
   "id": "0353cda3",
   "metadata": {},
   "outputs": [],
   "source": [
    "import numpy as np\n",
    "import matplotlib.pyplot as plt\n",
    "import pandas as pd"
   ]
  },
  {
   "cell_type": "markdown",
   "id": "7d648164",
   "metadata": {},
   "source": [
    "# Loading the dataset"
   ]
  },
  {
   "cell_type": "code",
   "execution_count": 16,
   "id": "0f648d23",
   "metadata": {},
   "outputs": [
    {
     "name": "stdout",
     "output_type": "stream",
     "text": [
      "       Unnamed: 0                                            address  \\\n",
      "0               0           Podgórze Zab³ocie Stanis³awa Klimeckiego   \n",
      "1               1                          Praga-Po³udnie Grochowska   \n",
      "2               2                            Krowodrza Czarnowiejska   \n",
      "3               3                                           Grunwald   \n",
      "4               4  Ochota Gotowy budynek. Stan deweloperski. Osta...   \n",
      "...           ...                                                ...   \n",
      "23759       23759                            Stare Miasto Naramowice   \n",
      "23760       23760                                             W³ochy   \n",
      "23761       23761                    Nowe Miasto Malta ul. Katowicka   \n",
      "23762       23762                 Podgórze Duchackie Walerego S³awka   \n",
      "23763       23763                                            Ursynów   \n",
      "\n",
      "           city  floor       id   latitude  longitude      price  rooms  \\\n",
      "0        Kraków    2.0  23918.0  50.049224  19.970379   749000.0    3.0   \n",
      "1      Warszawa    3.0  17828.0  52.249775  21.106886   240548.0    1.0   \n",
      "2        Kraków    2.0  22784.0  50.066964  19.920025   427000.0    2.0   \n",
      "3        Poznañ    2.0   4315.0  52.404212  16.882542  1290000.0    5.0   \n",
      "4      Warszawa    1.0  11770.0  52.212225  20.972630   996000.0    5.0   \n",
      "...         ...    ...      ...        ...        ...        ...    ...   \n",
      "23759    Poznañ    0.0   3976.0  52.449649  16.949408   543000.0    4.0   \n",
      "23760  Warszawa    4.0  10206.0  52.186109  20.948438   910000.0    3.0   \n",
      "23761    Poznañ    0.0   4952.0  52.397345  16.961939   430695.0    3.0   \n",
      "23762    Kraków    6.0  24148.0  50.024231  19.959569   359000.0    2.0   \n",
      "23763  Warszawa    2.0  10889.0  52.141039  21.032321   604800.0    3.0   \n",
      "\n",
      "           sq    year  \n",
      "0       74.05  2021.0  \n",
      "1       24.38  2021.0  \n",
      "2       37.00  1970.0  \n",
      "3      166.00  1935.0  \n",
      "4      105.00  2020.0  \n",
      "...       ...     ...  \n",
      "23759   77.00  2020.0  \n",
      "23760   71.00  2017.0  \n",
      "23761   50.67  2022.0  \n",
      "23762   38.86  2021.0  \n",
      "23763   63.00  1978.0  \n",
      "\n",
      "[23764 rows x 11 columns]\n"
     ]
    }
   ],
   "source": [
    "# Load the dataset from the 'data' folder\n",
    "file_path = '../data/Houses.csv'\n",
    "\n",
    "try:\n",
    "    dataset = pd.read_csv(file_path, encoding='utf-8')\n",
    "except UnicodeDecodeError:\n",
    "    # If utf-8 fails, try 'latin1' encoding\n",
    "    dataset = pd.read_csv(file_path, encoding='latin1')\n",
    "    \n",
    "print(dataset)"
   ]
  },
  {
   "cell_type": "markdown",
   "id": "2162a1c3",
   "metadata": {},
   "source": [
    "# Dropping unnecessary columns"
   ]
  },
  {
   "cell_type": "code",
   "execution_count": 17,
   "id": "11532a1d",
   "metadata": {},
   "outputs": [
    {
     "name": "stdout",
     "output_type": "stream",
     "text": [
      "       Unnamed: 0      city  floor      price  rooms      sq    year\n",
      "0               0    Kraków    2.0   749000.0    3.0   74.05  2021.0\n",
      "1               1  Warszawa    3.0   240548.0    1.0   24.38  2021.0\n",
      "2               2    Kraków    2.0   427000.0    2.0   37.00  1970.0\n",
      "3               3    Poznañ    2.0  1290000.0    5.0  166.00  1935.0\n",
      "4               4  Warszawa    1.0   996000.0    5.0  105.00  2020.0\n",
      "...           ...       ...    ...        ...    ...     ...     ...\n",
      "23759       23759    Poznañ    0.0   543000.0    4.0   77.00  2020.0\n",
      "23760       23760  Warszawa    4.0   910000.0    3.0   71.00  2017.0\n",
      "23761       23761    Poznañ    0.0   430695.0    3.0   50.67  2022.0\n",
      "23762       23762    Kraków    6.0   359000.0    2.0   38.86  2021.0\n",
      "23763       23763  Warszawa    2.0   604800.0    3.0   63.00  1978.0\n",
      "\n",
      "[23764 rows x 7 columns]\n"
     ]
    }
   ],
   "source": [
    "# Drop unnecessary columns for now\n",
    "dataset = dataset.drop(['id', 'address', 'latitude', 'longitude'], axis=1)\n",
    "\n",
    "print(dataset)"
   ]
  },
  {
   "cell_type": "markdown",
   "id": "a9e334f5",
   "metadata": {},
   "source": [
    "# Separate features (X) and target variable (y)"
   ]
  },
  {
   "cell_type": "code",
   "execution_count": 19,
   "id": "cf655a87",
   "metadata": {},
   "outputs": [],
   "source": [
    "# Separate features (X) and target variable (y)\n",
    "X = dataset.drop('price', axis=1)\n",
    "y = dataset['price']"
   ]
  },
  {
   "cell_type": "code",
   "execution_count": 20,
   "id": "2dfbebba",
   "metadata": {},
   "outputs": [
    {
     "name": "stdout",
     "output_type": "stream",
     "text": [
      "       Unnamed: 0      city  floor  rooms      sq    year\n",
      "0               0    Kraków    2.0    3.0   74.05  2021.0\n",
      "1               1  Warszawa    3.0    1.0   24.38  2021.0\n",
      "2               2    Kraków    2.0    2.0   37.00  1970.0\n",
      "3               3    Poznañ    2.0    5.0  166.00  1935.0\n",
      "4               4  Warszawa    1.0    5.0  105.00  2020.0\n",
      "...           ...       ...    ...    ...     ...     ...\n",
      "23759       23759    Poznañ    0.0    4.0   77.00  2020.0\n",
      "23760       23760  Warszawa    4.0    3.0   71.00  2017.0\n",
      "23761       23761    Poznañ    0.0    3.0   50.67  2022.0\n",
      "23762       23762    Kraków    6.0    2.0   38.86  2021.0\n",
      "23763       23763  Warszawa    2.0    3.0   63.00  1978.0\n",
      "\n",
      "[23764 rows x 6 columns]\n"
     ]
    }
   ],
   "source": [
    "print(X)"
   ]
  },
  {
   "cell_type": "code",
   "execution_count": 21,
   "id": "2ccd4d13",
   "metadata": {},
   "outputs": [
    {
     "name": "stdout",
     "output_type": "stream",
     "text": [
      "0         749000.0\n",
      "1         240548.0\n",
      "2         427000.0\n",
      "3        1290000.0\n",
      "4         996000.0\n",
      "           ...    \n",
      "23759     543000.0\n",
      "23760     910000.0\n",
      "23761     430695.0\n",
      "23762     359000.0\n",
      "23763     604800.0\n",
      "Name: price, Length: 23764, dtype: float64\n"
     ]
    }
   ],
   "source": [
    "print(y)"
   ]
  },
  {
   "cell_type": "markdown",
   "id": "eb0870c9",
   "metadata": {},
   "source": [
    "# Handling missing data"
   ]
  },
  {
   "cell_type": "code",
   "execution_count": 22,
   "id": "2bffea82",
   "metadata": {},
   "outputs": [],
   "source": [
    "missing_data = dataset.isnull()\n",
    "missing_data_count_per_column = missing_data.sum()"
   ]
  },
  {
   "cell_type": "code",
   "execution_count": 23,
   "id": "07d3bc05",
   "metadata": {},
   "outputs": [
    {
     "name": "stdout",
     "output_type": "stream",
     "text": [
      "Unnamed: 0    0\n",
      "city          0\n",
      "floor         0\n",
      "price         0\n",
      "rooms         0\n",
      "sq            0\n",
      "year          0\n",
      "dtype: int64\n"
     ]
    }
   ],
   "source": [
    "print(missing_data_count_per_column)"
   ]
  },
  {
   "cell_type": "markdown",
   "id": "cd35ce56",
   "metadata": {},
   "source": [
    "The output indicates that there are no missing values in the columns of the dataset. Each column is reported to have 0 missing values, as indicated by the count of 0 for each column in the missing_data_count_per_column result."
   ]
  },
  {
   "cell_type": "code",
   "execution_count": null,
   "id": "a7c74a2d",
   "metadata": {},
   "outputs": [],
   "source": []
  }
 ],
 "metadata": {
  "kernelspec": {
   "display_name": "Python 3 (ipykernel)",
   "language": "python",
   "name": "python3"
  },
  "language_info": {
   "codemirror_mode": {
    "name": "ipython",
    "version": 3
   },
   "file_extension": ".py",
   "mimetype": "text/x-python",
   "name": "python",
   "nbconvert_exporter": "python",
   "pygments_lexer": "ipython3",
   "version": "3.11.5"
  }
 },
 "nbformat": 4,
 "nbformat_minor": 5
}
